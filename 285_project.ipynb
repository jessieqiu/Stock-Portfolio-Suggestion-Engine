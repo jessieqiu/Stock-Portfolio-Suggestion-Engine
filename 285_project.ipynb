{
 "cells": [
  {
   "cell_type": "code",
   "execution_count": 19,
   "metadata": {},
   "outputs": [],
   "source": [
    "import requests"
   ]
  },
  {
   "cell_type": "code",
   "execution_count": 20,
   "metadata": {},
   "outputs": [],
   "source": [
    "class InvestmentPortfolio:\n",
    "    def __init__(self, tickers, shares):\n",
    "        self.tickers = tickers\n",
    "        self.number_of_shares = shares\n"
   ]
  },
  {
   "cell_type": "code",
   "execution_count": 21,
   "metadata": {},
   "outputs": [],
   "source": [
    "def printResults(s):\n",
    "    if s is not None:\n",
    "        print(\"Stocks suggested for you: \", s.tickers)\n",
    "        print(\"Corresponding shares for each stock: \", s.number_of_shares)\n",
    "    else:\n",
    "        print(\"Please try again.\")"
   ]
  },
  {
   "cell_type": "code",
   "execution_count": 22,
   "metadata": {},
   "outputs": [],
   "source": [
    "import datetime"
   ]
  },
  {
   "cell_type": "code",
   "execution_count": 70,
   "metadata": {},
   "outputs": [],
   "source": [
    "def get_current_price(date, stock_symbol):\n",
    "    req = requests.get('https://www.alphavantage.co/query?function=TIME_SERIES_DAILY&symbol=' + stock_symbol + '&apikey=Z552XY642X21K4LB')\n",
    "    close = 1000\n",
    "    if req is not None:\n",
    "        #print(req.json())\n",
    "        count = 0\n",
    "        #print('tests', 'Note' in req.json())\n",
    "        while 'Note' in req.json() and count<10000:\n",
    "            count+=1\n",
    "            if(count%100==0):\n",
    "                req = requests.get('https://www.alphavantage.co/query?function=TIME_SERIES_DAILY&symbol=' + stock_symbol + '&apikey=Z552XY642X21K4LB')    \n",
    "        if('Note' not in req.json()):\n",
    "            close =  req.json()['Time Series (Daily)'][date]['4. close'] \n",
    "        print('count', count)\n",
    "        if count>=10000:\n",
    "            print(\"API access error, please try again later\")\n",
    "    else:\n",
    "        print(\"API access error, please try again later\")\n",
    "        \n",
    "    return close"
   ]
  },
  {
   "cell_type": "code",
   "execution_count": 71,
   "metadata": {},
   "outputs": [],
   "source": [
    "def get_monthly_low_high(date, stock_symbol):\n",
    "#    print(datetime.datetime.now())\n",
    "    req = requests.get('https://www.alphavantage.co/query?function=TIME_SERIES_MONTHLY&symbol=' + stock_symbol + '&apikey=Z552XY642X21K4LB')\n",
    "#     r.status_code\n",
    "#     r.text\n",
    "    #print(date)\n",
    "    low=0\n",
    "    high=0\n",
    "    if req is not None:\n",
    "        count = 0\n",
    "        #print('tests', 'Note' in req.json())\n",
    "        while 'Note' in req.json() and count<5000:\n",
    "            count+=1\n",
    "            if(count%100==0):\n",
    "                req = requests.get('https://www.alphavantage.co/query?function=TIME_SERIES_MONTHLY&symbol=' + stock_symbol + '&apikey=Z552XY642X21K4LB')\n",
    "        if('Note' not in req.json()):\n",
    "            low = req.json()['Monthly Time Series'][date]['3. low']\n",
    "            high = req.json()['Monthly Time Series'][date]['2. high']\n",
    "        #print('count', count) \n",
    "        if count>=5000:\n",
    "            print(\"API access error, please try again later\")\n",
    "    else:\n",
    "        print(\"API access error, please try again later\")\n",
    "    #print(low, high)\n",
    "\n",
    "    return low, high"
   ]
  },
  {
   "cell_type": "code",
   "execution_count": 72,
   "metadata": {},
   "outputs": [],
   "source": [
    "def distribute(money, stocks_list):\n",
    "    date = '2018-12-14'\n",
    "    #stock_name = 'MSFT'\n",
    "    percent = []\n",
    "    for stock_name in stocks_list:\n",
    "        print(stock_name)\n",
    "        low = 100\n",
    "        high = 200\n",
    "        low_s, high_s = get_monthly_low_high(date, stock_name)\n",
    "        low = float(low_s)\n",
    "        high = float(high_s)\n",
    "        current = float(get_current_price(date,stock_name))\n",
    "        print('l,h', low, high)\n",
    "        print('c', current)\n",
    "        if current<low and low!=0:\n",
    "            percent.append([(low-current)/low+1.00,stock_name, current])\n",
    "        elif current > high:\n",
    "            print('price too high')\n",
    "            percent.append([0.01, stock_name, current])\n",
    "        else:\n",
    "            print('l,h,c', low, high, current)\n",
    "            range_ = high-low\n",
    "            if range_== 0:\n",
    "                range_ = 1\n",
    "            loc = (current-low)/range_\n",
    "            percent.append([-1* loc +1.00, stock_name, current]) \n",
    "    print('before', percent)\n",
    "\n",
    "    #percent.sort( reverse=True)\n",
    "    percent.sort()\n",
    "    \n",
    "    print('after',percent)\n",
    "    \n",
    "    sum_= 0.00\n",
    "    for p in percent:\n",
    "        print('p',p[0])\n",
    "        sum_+= p[0]\n",
    "    print('sum', sum_)\n",
    "    if sum_ <=0:\n",
    "        sum_ = 1\n",
    "    for p in percent:\n",
    "        p[0]= p[0]/sum_\n",
    "    print('new p', percent)\n",
    "       \n",
    "    for p in percent:\n",
    "        \n",
    "        print('money, price',money, p[2])\n",
    "        share = int(money*p[0]/p[2])\n",
    "        print('money, price, share',money, p[2], share)\n",
    "\n",
    "        \n",
    "        #money = money - share*p[2]\n",
    "        p.append(share)\n",
    "    \n",
    "    print ('final', percent)\n",
    "    \n",
    "    val =0\n",
    "    for p in percent:\n",
    "        val+=p[2]*p[3]\n",
    "    print('val', val)\n",
    "    return percent"
   ]
  },
  {
   "cell_type": "code",
   "execution_count": 73,
   "metadata": {},
   "outputs": [
    {
     "name": "stdout",
     "output_type": "stream",
     "text": [
      "AAPL\n",
      "count 0\n",
      "l,h 163.33 184.94\n",
      "c 165.48\n",
      "l,h,c 163.33 184.94 165.48\n",
      "GOOG\n",
      "count 0\n",
      "l,h 1023.29 1124.65\n",
      "c 1042.1\n",
      "l,h,c 1023.29 1124.65 1042.1\n",
      "before [[0.900509023600186, 'AAPL', 165.48], [0.8144238358326764, 'GOOG', 1042.1]]\n",
      "after [[0.8144238358326764, 'GOOG', 1042.1], [0.900509023600186, 'AAPL', 165.48]]\n",
      "p 0.8144238358326764\n",
      "p 0.900509023600186\n",
      "sum 1.7149328594328623\n",
      "new p [[0.47490129502913064, 'GOOG', 1042.1], [0.5250987049708694, 'AAPL', 165.48]]\n",
      "money, price 50000 1042.1\n",
      "money, price, share 50000 1042.1 22\n",
      "money, price 50000 165.48\n",
      "money, price, share 50000 165.48 158\n",
      "final [[0.47490129502913064, 'GOOG', 1042.1, 22], [0.5250987049708694, 'AAPL', 165.48, 158]]\n",
      "val 49072.03999999999\n"
     ]
    },
    {
     "data": {
      "text/plain": [
       "[[0.47490129502913064, 'GOOG', 1042.1, 22],\n",
       " [0.5250987049708694, 'AAPL', 165.48, 158]]"
      ]
     },
     "execution_count": 73,
     "metadata": {},
     "output_type": "execute_result"
    }
   ],
   "source": [
    "# Due to the limitation of 5 API calls per minute from the free API we use, if you put two strategies, \n",
    "# there will be 6 stocks (greater than 5 API calls per minute) \n",
    "# therefore you need to wait a little while for the program to finish\n",
    "distribute(50000, ['AAPL','GOOG'])\n",
    "#distribute(50000, ['MSFT','TWLO','GOOG','A','FB','AMZN'])"
   ]
  },
  {
   "cell_type": "code",
   "execution_count": null,
   "metadata": {},
   "outputs": [],
   "source": []
  },
  {
   "cell_type": "code",
   "execution_count": 74,
   "metadata": {},
   "outputs": [],
   "source": [
    "def get_recommendations(strategy):\n",
    "    dic=[]\n",
    "    \n",
    "    if strategy == 'ethical':  \n",
    "        print(1)\n",
    "        dic.append('AAPL')\n",
    "        dic.append('ADBE')\n",
    "        dic.append('VOO')\n",
    "    elif strategy == 'growth':  \n",
    "        print(2)  \n",
    "        dic.append('JPM')\n",
    "        dic.append('BAC')\n",
    "        dic.append('WFC')\n",
    "    elif strategy == 'index':\n",
    "        print(3)\n",
    "        dic.append('GRPN')\n",
    "        dic.append('WMT')\n",
    "        dic.append('AMD')\n",
    "    elif strategy == 'quality':\n",
    "        print(4)\n",
    "        dic.append('GOOGL')\n",
    "        dic.append('AMZN')\n",
    "        dic.append('MSFT')\n",
    "\n",
    "    elif strategy == 'value':\n",
    "        print(5)\n",
    "        dic.append('TWLO')\n",
    "        dic.append('NVDA')\n",
    "        dic.append('MDB')\n",
    "    \n",
    "    return dic    "
   ]
  },
  {
   "cell_type": "code",
   "execution_count": 75,
   "metadata": {},
   "outputs": [],
   "source": [
    "#extra feature: mode = aggressive, balanced, conventional\n",
    "#to be determined how it works"
   ]
  },
  {
   "cell_type": "code",
   "execution_count": 76,
   "metadata": {},
   "outputs": [],
   "source": [
    "def input_validation(lower_case_strategies, investment_amount, strategy1, strategy2=None):\n",
    "    #input validation\n",
    "    \n",
    "    #Minimum is $5000 USD\n",
    "    if(investment_amount<5000.00):\n",
    "        error = \"Error: Minimum investment amount is $5000 USD. You entered: $\"+str(investment_amount)+\" USD.\"\n",
    "        print(error)\n",
    "        return False, []\n",
    "    strategy_list = [] #lower cased strategies\n",
    "    if strategy1 is not None:\n",
    "        lower_case_strategy1 = strategy1.lower()\n",
    "        strategy_list.append(lower_case_strategy1)\n",
    "    if strategy2 is not None:\n",
    "        lower_case_strategy2 = strategy2.lower()\n",
    "        strategy_list.append(lower_case_strategy2)\n",
    "    error1 = \"Error: Strategy must be one of the following: \"+ str(lower_case_strategies) \n",
    "    error2 = \"You entered: \"\n",
    "    flag = False\n",
    "    if strategy1 is not None and lower_case_strategy1 not in lower_case_strategies:\n",
    "        error2 += '\\''+ strategy1 + '\\''\n",
    "        flag = True\n",
    "    if strategy2 is not None and lower_case_strategy2 not in lower_case_strategies:\n",
    "        if flag:\n",
    "            error2 += ' and '\n",
    "        error2 += '\\''+strategy2 + '\\''\n",
    "        flag = True\n",
    "    if flag:\n",
    "        print(error1)\n",
    "        print(error2)\n",
    "    return flag, strategy_list"
   ]
  },
  {
   "cell_type": "code",
   "execution_count": 77,
   "metadata": {},
   "outputs": [],
   "source": [
    "def getStocks(investment_amount=5000.00, strategy1='Ethical', strategy2=None):\n",
    "    \n",
    "    \n",
    "    #Strategies need to be 'Ethical', 'Growth', 'Index', 'Quality' or 'Value'\n",
    "    strategies = ['Ethical', 'Growth', 'Index', 'Quality', 'Value' ]\n",
    "    lower_case_strategies = [s.lower() for s in strategies]\n",
    "    \n",
    "    \n",
    "     #input validation\n",
    "    invalid, strategy_list = input_validation(lower_case_strategies, investment_amount, strategy1, strategy2)\n",
    "    if invalid or not strategy_list:\n",
    "        return\n",
    "        \n",
    "    \n",
    "    \n",
    "    \n",
    "    shares=[]\n",
    "    #tickers = ['TICK', 'SYM', 'BOLS']\n",
    "    #shares = [10, 20, 30]\n",
    "    stocks= []\n",
    "    for strategy in strategy_list:\n",
    "        stocks.extend(get_recommendations(strategy))\n",
    "        print(stocks)\n",
    "        \n",
    "   \n",
    "    results = distribute(investment_amount, stocks)\n",
    "    print('here', results);        \n",
    "    \n",
    "    #return(InvestmentPortfolio(stocks, shares))\n",
    "    return results\n"
   ]
  },
  {
   "cell_type": "code",
   "execution_count": 78,
   "metadata": {},
   "outputs": [
    {
     "name": "stdout",
     "output_type": "stream",
     "text": [
      "3\n",
      "['GRPN', 'WMT', 'AMD']\n",
      "GRPN\n",
      "count 4900\n",
      "l,h 2.98 3.33\n",
      "c 3.14\n",
      "l,h,c 2.98 3.33 3.14\n",
      "WMT\n",
      "count 0\n",
      "l,h 91.57 99.59\n",
      "c 91.85\n",
      "l,h,c 91.57 99.59 91.85\n",
      "AMD\n",
      "count 0\n",
      "l,h 19.17 23.75\n",
      "c 19.9\n",
      "l,h,c 19.17 23.75 19.9\n",
      "before [[0.5428571428571426, 'GRPN', 3.14], [0.9650872817955112, 'WMT', 91.85], [0.840611353711791, 'AMD', 19.9]]\n",
      "after [[0.5428571428571426, 'GRPN', 3.14], [0.840611353711791, 'AMD', 19.9], [0.9650872817955112, 'WMT', 91.85]]\n",
      "p 0.5428571428571426\n",
      "p 0.840611353711791\n",
      "p 0.9650872817955112\n",
      "sum 2.348555778364445\n",
      "new p [[0.23114509259609456, 'GRPN', 3.14], [0.3579269274571797, 'AMD', 19.9], [0.4109279799467256, 'WMT', 91.85]]\n",
      "money, price 80000 3.14\n",
      "money, price, share 80000 3.14 5889\n",
      "money, price 80000 19.9\n",
      "money, price, share 80000 19.9 1438\n",
      "money, price 80000 91.85\n",
      "money, price, share 80000 91.85 357\n",
      "final [[0.23114509259609456, 'GRPN', 3.14, 5889], [0.3579269274571797, 'AMD', 19.9, 1438], [0.4109279799467256, 'WMT', 91.85, 357]]\n",
      "val 79898.10999999999\n",
      "here [[0.23114509259609456, 'GRPN', 3.14, 5889], [0.3579269274571797, 'AMD', 19.9, 1438], [0.4109279799467256, 'WMT', 91.85, 357]]\n"
     ]
    },
    {
     "data": {
      "text/plain": [
       "[[0.23114509259609456, 'GRPN', 3.14, 5889],\n",
       " [0.3579269274571797, 'AMD', 19.9, 1438],\n",
       " [0.4109279799467256, 'WMT', 91.85, 357]]"
      ]
     },
     "execution_count": 78,
     "metadata": {},
     "output_type": "execute_result"
    }
   ],
   "source": [
    "s1 = getStocks(80000, 'index')\n",
    "s1"
   ]
  },
  {
   "cell_type": "code",
   "execution_count": 69,
   "metadata": {},
   "outputs": [
    {
     "name": "stdout",
     "output_type": "stream",
     "text": [
      "1\n",
      "['AAPL', 'ADBE', 'VOO']\n",
      "2\n",
      "['AAPL', 'ADBE', 'VOO', 'JPM', 'BAC', 'WFC']\n",
      "AAPL\n",
      "count 0\n",
      "l,h 163.33 184.94\n",
      "c 165.48\n",
      "l,h,c 163.33 184.94 165.48\n",
      "ADBE\n",
      "count 0\n",
      "l,h 229.91 260.72\n",
      "c 230.0\n",
      "l,h,c 229.91 260.72 230.0\n",
      "VOO\n",
      "count 0\n",
      "l,h 237.62 257.74\n",
      "c 239.38\n",
      "l,h,c 237.62 257.74 239.38\n",
      "JPM\n",
      "count 5000\n",
      "API access error, please try again later\n",
      "l,h 99.28 112.89\n",
      "c 100000.0\n",
      "price too high\n",
      "BAC\n",
      "API access error, please try again later\n",
      "count 3800\n",
      "l,h 0.0 0.0\n",
      "c 24.48\n",
      "price too high\n",
      "WFC\n",
      "count 0\n",
      "l,h 46.3834 55.04\n",
      "c 46.54\n",
      "l,h,c 46.3834 55.04 46.54\n",
      "before [[0.900509023600186, 'AAPL', 165.48], [0.9970788704965919, 'ADBE', 230.0], [0.9125248508946326, 'VOO', 239.38], [0.01, 'JPM', 100000.0], [0.01, 'BAC', 24.48], [0.9819097567174182, 'WFC', 46.54]]\n",
      "after [[0.01, 'BAC', 24.48], [0.01, 'JPM', 100000.0], [0.900509023600186, 'AAPL', 165.48], [0.9125248508946326, 'VOO', 239.38], [0.9819097567174182, 'WFC', 46.54], [0.9970788704965919, 'ADBE', 230.0]]\n",
      "p 0.01\n",
      "p 0.01\n",
      "p 0.900509023600186\n",
      "p 0.9125248508946326\n",
      "p 0.9819097567174182\n",
      "p 0.9970788704965919\n",
      "sum 3.8120225017088285\n",
      "new p [[0.002623279373486716, 'BAC', 24.48], [0.002623279373486716, 'JPM', 100000.0], [0.23622867472490305, 'AAPL', 165.48], [0.2393807619145931, 'VOO', 239.38], [0.2575823611422163, 'WFC', 46.54], [0.2615616434713142, 'ADBE', 230.0]]\n",
      "money, price 8000 24.48\n",
      "money, price, share 8000 24.48 0\n",
      "money, price 8000 100000.0\n",
      "money, price, share 8000 100000.0 0\n",
      "money, price 8000 165.48\n",
      "money, price, share 8000 165.48 11\n",
      "money, price 8000 239.38\n",
      "money, price, share 8000 239.38 8\n",
      "money, price 8000 46.54\n",
      "money, price, share 8000 46.54 44\n",
      "money, price 8000 230.0\n",
      "money, price, share 8000 230.0 9\n",
      "final [[0.002623279373486716, 'BAC', 24.48, 0], [0.002623279373486716, 'JPM', 100000.0, 0], [0.23622867472490305, 'AAPL', 165.48, 11], [0.2393807619145931, 'VOO', 239.38, 8], [0.2575823611422163, 'WFC', 46.54, 44], [0.2615616434713142, 'ADBE', 230.0, 9]]\n",
      "val 7853.08\n",
      "here [[0.002623279373486716, 'BAC', 24.48, 0], [0.002623279373486716, 'JPM', 100000.0, 0], [0.23622867472490305, 'AAPL', 165.48, 11], [0.2393807619145931, 'VOO', 239.38, 8], [0.2575823611422163, 'WFC', 46.54, 44], [0.2615616434713142, 'ADBE', 230.0, 9]]\n"
     ]
    },
    {
     "data": {
      "text/plain": [
       "[[0.002623279373486716, 'BAC', 24.48, 0],\n",
       " [0.002623279373486716, 'JPM', 100000.0, 0],\n",
       " [0.23622867472490305, 'AAPL', 165.48, 11],\n",
       " [0.2393807619145931, 'VOO', 239.38, 8],\n",
       " [0.2575823611422163, 'WFC', 46.54, 44],\n",
       " [0.2615616434713142, 'ADBE', 230.0, 9]]"
      ]
     },
     "execution_count": 69,
     "metadata": {},
     "output_type": "execute_result"
    }
   ],
   "source": [
    "s2 = getStocks(10000, 'ethical', 'growth')\n",
    "s2"
   ]
  },
  {
   "cell_type": "code",
   "execution_count": 60,
   "metadata": {},
   "outputs": [
    {
     "name": "stdout",
     "output_type": "stream",
     "text": [
      "4\n",
      "['GOOGL', 'AMZN', 'MSFT']\n",
      "5\n",
      "['GOOGL', 'AMZN', 'MSFT', 'TWLO', 'NVDA', 'MDB']\n",
      "GOOGL\n",
      "count 0\n",
      "l,h 1033.0 1135.0\n",
      "c 1051.71\n",
      "l,h,c 1033.0 1135.0 1051.71\n",
      "AMZN\n",
      "count 0\n",
      "l,h 1585.0 1778.34\n",
      "c 1591.91\n",
      "l,h,c 1585.0 1778.34 1591.91\n",
      "MSFT\n",
      "count 300\n",
      "l,h 103.89 113.42\n",
      "c 106.03\n",
      "l,h,c 103.89 113.42 106.03\n",
      "TWLO\n",
      "count 0\n",
      "l,h 85.6814 100.47\n",
      "c 91.62\n",
      "l,h,c 85.6814 100.47 91.62\n",
      "NVDA\n",
      "count 0\n",
      "l,h 144.82 174.68\n",
      "c 146.45\n",
      "l,h,c 144.82 174.68 146.45\n",
      "MDB\n",
      "count 0\n",
      "l,h 79.13 93.23\n",
      "c 90.58\n",
      "l,h,c 79.13 93.23 90.58\n",
      "before [[0.81656862745098, 'GOOGL', 1051.71], [0.964259853108513, 'AMZN', 1591.91], [0.7754459601259182, 'MSFT', 106.03], [0.5984339288370768, 'TWLO', 91.62], [0.9454119223040859, 'NVDA', 146.45], [0.18794326241134784, 'MDB', 90.58]]\n",
      "after [[0.18794326241134784, 'MDB', 90.58], [0.5984339288370768, 'TWLO', 91.62], [0.7754459601259182, 'MSFT', 106.03], [0.81656862745098, 'GOOGL', 1051.71], [0.9454119223040859, 'NVDA', 146.45], [0.964259853108513, 'AMZN', 1591.91]]\n",
      "p 0.18794326241134784\n",
      "p 0.5984339288370768\n",
      "p 0.7754459601259182\n",
      "p 0.81656862745098\n",
      "p 0.9454119223040859\n",
      "p 0.964259853108513\n",
      "sum 4.288063554237922\n",
      "new p [[0.04382940225445172, 'MDB', 90.58], [0.13955808286601548, 'TWLO', 91.62], [0.18083826191417793, 'MSFT', 106.03], [0.19042829405920528, 'GOOGL', 1051.71], [0.22047525890089217, 'NVDA', 146.45], [0.22487070000525725, 'AMZN', 1591.91]]\n",
      "money, price 80000 90.58\n",
      "money, price, share 80000 90.58 38\n",
      "money, price 80000 91.62\n",
      "money, price, share 80000 91.62 121\n",
      "money, price 80000 106.03\n",
      "money, price, share 80000 106.03 136\n",
      "money, price 80000 1051.71\n",
      "money, price, share 80000 1051.71 14\n",
      "money, price 80000 146.45\n",
      "money, price, share 80000 146.45 120\n",
      "money, price 80000 1591.91\n",
      "money, price, share 80000 1591.91 11\n",
      "final [[0.04382940225445172, 'MDB', 90.58, 38], [0.13955808286601548, 'TWLO', 91.62, 121], [0.18083826191417793, 'MSFT', 106.03, 136], [0.19042829405920528, 'GOOGL', 1051.71, 14], [0.22047525890089217, 'NVDA', 146.45, 120], [0.22487070000525725, 'AMZN', 1591.91, 11]]\n",
      "val 78757.09\n",
      "here [[0.04382940225445172, 'MDB', 90.58, 38], [0.13955808286601548, 'TWLO', 91.62, 121], [0.18083826191417793, 'MSFT', 106.03, 136], [0.19042829405920528, 'GOOGL', 1051.71, 14], [0.22047525890089217, 'NVDA', 146.45, 120], [0.22487070000525725, 'AMZN', 1591.91, 11]]\n"
     ]
    },
    {
     "data": {
      "text/plain": [
       "[[0.04382940225445172, 'MDB', 90.58, 38],\n",
       " [0.13955808286601548, 'TWLO', 91.62, 121],\n",
       " [0.18083826191417793, 'MSFT', 106.03, 136],\n",
       " [0.19042829405920528, 'GOOGL', 1051.71, 14],\n",
       " [0.22047525890089217, 'NVDA', 146.45, 120],\n",
       " [0.22487070000525725, 'AMZN', 1591.91, 11]]"
      ]
     },
     "execution_count": 60,
     "metadata": {},
     "output_type": "execute_result"
    }
   ],
   "source": [
    "s3 = getStocks(80000, 'quality','value')\n",
    "s3"
   ]
  },
  {
   "cell_type": "code",
   "execution_count": 61,
   "metadata": {},
   "outputs": [],
   "source": [
    "#some test cases below"
   ]
  },
  {
   "cell_type": "code",
   "execution_count": 62,
   "metadata": {},
   "outputs": [
    {
     "name": "stdout",
     "output_type": "stream",
     "text": [
      "Error: Minimum investment amount is $5000 USD. You entered: $50 USD.\n",
      "Please try again.\n"
     ]
    }
   ],
   "source": [
    "s = getStocks(50, 'ethic', \"ethical\")\n",
    "printResults(s)"
   ]
  },
  {
   "cell_type": "code",
   "execution_count": 63,
   "metadata": {},
   "outputs": [
    {
     "name": "stdout",
     "output_type": "stream",
     "text": [
      "Error: Strategy must be one of the following: ['ethical', 'growth', 'index', 'quality', 'value']\n",
      "You entered: 'hahaha'\n",
      "Please try again.\n"
     ]
    }
   ],
   "source": [
    "s = getStocks(80000, 'hahaha', \"ethical\")\n",
    "printResults(s)"
   ]
  },
  {
   "cell_type": "code",
   "execution_count": 64,
   "metadata": {},
   "outputs": [
    {
     "name": "stdout",
     "output_type": "stream",
     "text": [
      "Error: Strategy must be one of the following: ['ethical', 'growth', 'index', 'quality', 'value']\n",
      "You entered: 'hohoho'\n",
      "Please try again.\n"
     ]
    }
   ],
   "source": [
    "s = getStocks(80000, 'ethical', \"hohoho\")\n",
    "printResults(s)"
   ]
  },
  {
   "cell_type": "code",
   "execution_count": 65,
   "metadata": {},
   "outputs": [
    {
     "name": "stdout",
     "output_type": "stream",
     "text": [
      "Error: Strategy must be one of the following: ['ethical', 'growth', 'index', 'quality', 'value']\n",
      "You entered: 'hahaha' and 'hohoho'\n",
      "Please try again.\n"
     ]
    }
   ],
   "source": [
    "s = getStocks(80000, 'hahaha', \"hohoho\")\n",
    "printResults(s)"
   ]
  },
  {
   "cell_type": "code",
   "execution_count": 66,
   "metadata": {},
   "outputs": [
    {
     "name": "stdout",
     "output_type": "stream",
     "text": [
      "Error: Strategy must be one of the following: ['ethical', 'growth', 'index', 'quality', 'value']\n",
      "You entered: 'ethic'\n",
      "Please try again.\n"
     ]
    }
   ],
   "source": [
    "s = getStocks(80000, 'ethic')\n",
    "printResults(s)"
   ]
  },
  {
   "cell_type": "code",
   "execution_count": null,
   "metadata": {},
   "outputs": [],
   "source": []
  },
  {
   "cell_type": "code",
   "execution_count": null,
   "metadata": {},
   "outputs": [],
   "source": []
  }
 ],
 "metadata": {
  "kernelspec": {
   "display_name": "Python 3",
   "language": "python",
   "name": "python3"
  },
  "language_info": {
   "codemirror_mode": {
    "name": "ipython",
    "version": 3
   },
   "file_extension": ".py",
   "mimetype": "text/x-python",
   "name": "python",
   "nbconvert_exporter": "python",
   "pygments_lexer": "ipython3",
   "version": "3.6.5"
  }
 },
 "nbformat": 4,
 "nbformat_minor": 2
}
