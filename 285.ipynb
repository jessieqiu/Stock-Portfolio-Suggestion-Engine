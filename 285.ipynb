{
 "cells": [
  {
   "cell_type": "code",
   "execution_count": 107,
   "metadata": {},
   "outputs": [],
   "source": [
    "class InvestmentPortfolio:\n",
    "    def __init__(self, tickers, shares):\n",
    "        self.tickers = tickers\n",
    "        self.number_of_shares = shares\n"
   ]
  },
  {
   "cell_type": "code",
   "execution_count": 126,
   "metadata": {},
   "outputs": [],
   "source": [
    "def printResults(s):\n",
    "    if s is not None:\n",
    "        print(\"Stocks suggested for you: \", s.tickers)\n",
    "        print(\"Corresponding shares for each stock: \", s.number_of_shares)\n",
    "    else:\n",
    "        print(\"Please try again.\")"
   ]
  },
  {
   "cell_type": "code",
   "execution_count": null,
   "metadata": {},
   "outputs": [],
   "source": [
    "#extra feature: mode = aggressive, balanced, conventional"
   ]
  },
  {
   "cell_type": "code",
   "execution_count": 149,
   "metadata": {},
   "outputs": [
    {
     "ename": "SyntaxError",
     "evalue": "invalid syntax (<ipython-input-149-54594e6813d4>, line 41)",
     "output_type": "error",
     "traceback": [
      "\u001b[1;36m  File \u001b[1;32m\"<ipython-input-149-54594e6813d4>\"\u001b[1;36m, line \u001b[1;32m41\u001b[0m\n\u001b[1;33m    if\u001b[0m\n\u001b[1;37m       ^\u001b[0m\n\u001b[1;31mSyntaxError\u001b[0m\u001b[1;31m:\u001b[0m invalid syntax\n"
     ]
    }
   ],
   "source": [
    "def getStocks(investment_amount=5000.00, strategy1='Ethical', strategy2=None, mode='balanced'):\n",
    "    \n",
    "    #input validation\n",
    "    \n",
    "    #Minimum is $5000 USD\n",
    "    if(investment_amount<5000.00):\n",
    "        error = \"Error: Minimum investment amount is $5000 USD. You entered: $\"+str(investment_amount)+\" USD.\"\n",
    "        print(error)\n",
    "        return\n",
    "    #Strategies need to be 'Ethical', 'Growth', 'Index', 'Quality' or 'Value'\n",
    "    strategies = ['Ethical', 'Growth', 'Index', 'Quality', 'Value' ]\n",
    "    lower_case_strategies = [s.lower() for s in strategies]\n",
    "    strategy_list = []\n",
    "    if strategy1 is not None:\n",
    "        lower_case_strategy1 = strategy1.lower()\n",
    "        strategy_list.append(lower_case_strategy1)\n",
    "    if strategy2 is not None:\n",
    "        lower_case_strategy2 = strategy2.lower()\n",
    "        strategy_list.append(lower_case_strategy2)\n",
    "    error1 = \"Error: Strategy must be one of the following: \"+ str(strategies) \n",
    "    error2 = \"You entered: \"\n",
    "    flag = False\n",
    "    if strategy1 is not None and lower_case_strategy1 not in lower_case_strategies:\n",
    "        error2 += '\\''+ strategy1 + '\\''\n",
    "        flag = True\n",
    "    if strategy2 is not None and lower_case_strategy2 not in lower_case_strategies:\n",
    "        if flag:\n",
    "            error2 += ' and '\n",
    "        error2 += '\\''+strategy2 + '\\''\n",
    "        flag = True\n",
    "    if flag:\n",
    "        print(error1)\n",
    "        print(error2)\n",
    "        return\n",
    "        \n",
    "        \n",
    "    tickers=[]\n",
    "    shares=[]\n",
    "    \n",
    "    \n",
    "    for strategy in strategy_list:\n",
    "        switch (strategy) {\n",
    "            \n",
    "\n",
    "        }\n",
    "    \n",
    "    \n",
    "    tickers = ['ANY', 'FIVE', 'TICK', 'SYM', 'BOLS']\n",
    "    shares = [10, 20, 30, 40, 50]\n",
    "    #Insert code here to update the 'tickers' and 'ratios' variables\n",
    "    return(InvestmentPortfolio(tickers, shares))\n",
    "\n"
   ]
  },
  {
   "cell_type": "code",
   "execution_count": 143,
   "metadata": {},
   "outputs": [
    {
     "name": "stdout",
     "output_type": "stream",
     "text": [
      "Error: Minimum investment amount is $5000 USD. You entered: $50 USD.\n",
      "Please try again.\n"
     ]
    }
   ],
   "source": [
    "s = getStocks(50, 'ethic', \"ethical\")\n",
    "printResults(s)"
   ]
  },
  {
   "cell_type": "code",
   "execution_count": 144,
   "metadata": {},
   "outputs": [
    {
     "name": "stdout",
     "output_type": "stream",
     "text": [
      "Error: Strategy must be one of the following: ['Ethical', 'Growth', 'Index', 'Quality', 'Value']\n",
      "You entered: 'hahaha'\n",
      "Please try again.\n"
     ]
    }
   ],
   "source": [
    "s = getStocks(80000, 'hahaha', \"ethical\")\n",
    "printResults(s)"
   ]
  },
  {
   "cell_type": "code",
   "execution_count": 145,
   "metadata": {},
   "outputs": [
    {
     "name": "stdout",
     "output_type": "stream",
     "text": [
      "Error: Strategy must be one of the following: ['Ethical', 'Growth', 'Index', 'Quality', 'Value']\n",
      "You entered: 'hohoho'\n",
      "Please try again.\n"
     ]
    }
   ],
   "source": [
    "s = getStocks(80000, 'ethical', \"hohoho\")\n",
    "printResults(s)"
   ]
  },
  {
   "cell_type": "code",
   "execution_count": 146,
   "metadata": {},
   "outputs": [
    {
     "name": "stdout",
     "output_type": "stream",
     "text": [
      "Error: Strategy must be one of the following: ['Ethical', 'Growth', 'Index', 'Quality', 'Value']\n",
      "You entered: 'hahaha' and 'hohoho'\n",
      "Please try again.\n"
     ]
    }
   ],
   "source": [
    "s = getStocks(80000, 'hahaha', \"hohoho\")\n",
    "printResults(s)"
   ]
  },
  {
   "cell_type": "code",
   "execution_count": 148,
   "metadata": {},
   "outputs": [
    {
     "name": "stdout",
     "output_type": "stream",
     "text": [
      "Stocks suggested for you:  ['ANY', 'FIVE', 'TICK', 'SYM', 'BOLS']\n",
      "Corresponding shares for each stock:  [10, 20, 30, 40, 50]\n"
     ]
    }
   ],
   "source": [
    "s = getStocks(80000, 'ethical')\n",
    "printResults(s)"
   ]
  },
  {
   "cell_type": "code",
   "execution_count": null,
   "metadata": {},
   "outputs": [],
   "source": []
  },
  {
   "cell_type": "code",
   "execution_count": null,
   "metadata": {},
   "outputs": [],
   "source": []
  }
 ],
 "metadata": {
  "kernelspec": {
   "display_name": "Python 3",
   "language": "python",
   "name": "python3"
  },
  "language_info": {
   "codemirror_mode": {
    "name": "ipython",
    "version": 3
   },
   "file_extension": ".py",
   "mimetype": "text/x-python",
   "name": "python",
   "nbconvert_exporter": "python",
   "pygments_lexer": "ipython3",
   "version": "3.6.5"
  }
 },
 "nbformat": 4,
 "nbformat_minor": 2
}
